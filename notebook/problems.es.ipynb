{
 "cells": [
  {
   "cell_type": "markdown",
   "id": "a41f3622",
   "metadata": {},
   "source": [
    "# Ejercicios de probabilidad"
   ]
  },
  {
   "cell_type": "markdown",
   "id": "a6bdbd89",
   "metadata": {},
   "source": [
    "## Ejercicio 1 \n",
    "\n",
    "Dos dados se lanzan una vez y se observa el total obtenido. Usa una simulación para encontrar la probabilidad estimada de que la puntuación sea mayor a 7 o un número par. Una simulación es una repetición del mismo experimento multiples veces para observar su comportamiento:\n",
    "\n",
    "- Ejecuta el experimento 1000 veces (lanza 2 dados 1000 veces, y suma el número de ambos dados).\n",
    "- Lleva ua cuenta de los números y las veces que la suma fue mayor a 7 o un número par.\n",
    "- Divide el número del paso 2 entre el número de iteraciones(1000)."
   ]
  },
  {
   "cell_type": "code",
   "execution_count": 2,
   "id": "8939d892",
   "metadata": {},
   "outputs": [
    {
     "name": "stdout",
     "output_type": "stream",
     "text": [
      "La probabilidad estimada de que la suma sea mayor a 7 o un número par es: 0.6620\n"
     ]
    }
   ],
   "source": [
    "import random\n",
    "import numpy as np \n",
    "\n",
    "def lanzar_dados():\n",
    "    dado1 = random.randint(1, 6)\n",
    "    dado2 = random.randint(1, 6)\n",
    "    return dado1 + dado2\n",
    "\n",
    "\n",
    "num_experimentos = 1000\n",
    "exitos = 0\n",
    "\n",
    "\n",
    "for _ in range(num_experimentos):\n",
    "    suma = lanzar_dados()\n",
    "    \n",
    "\n",
    "    if suma > 7 or suma % 2 == 0:\n",
    "        exitos += 1\n",
    "\n",
    "\n",
    "probabilidad = exitos / num_experimentos\n",
    "\n",
    "\n",
    "print(f\"La probabilidad estimada de que la suma sea mayor a 7 o un número par es: {probabilidad:.4f}\")\n"
   ]
  },
  {
   "cell_type": "markdown",
   "id": "55732bca",
   "metadata": {},
   "source": [
    "## Ejercicio 2\n",
    "\n",
    "Una caja contiene 10 bolas blancas, 20 bolas rojas y 30 bolas verdes. Si tomamos 5 bolas de la caja reemplazándolas (tomando una bola, anotando el color y luego regresandola a la caja). Queremos saber la probabilidad de:\n",
    "\n",
    "1. Tomar 3 blancas y 2 rojas.\n",
    "2. Toas todas del mismo color.\n",
    "\n",
    "Ejecuta el experimento 1000 veces y calcula las probabilidades que mencionadas."
   ]
  },
  {
   "cell_type": "code",
   "execution_count": 3,
   "id": "23244d20",
   "metadata": {},
   "outputs": [
    {
     "name": "stdout",
     "output_type": "stream",
     "text": [
      "{0: 'White', 1: 'White', 2: 'White', 3: 'White', 4: 'White', 5: 'White', 6: 'White', 7: 'White', 8: 'White', 9: 'White', 10: 'Red', 11: 'Red', 12: 'Red', 13: 'Red', 14: 'Red', 15: 'Red', 16: 'Red', 17: 'Red', 18: 'Red', 19: 'Red', 20: 'Red', 21: 'Red', 22: 'Red', 23: 'Red', 24: 'Red', 25: 'Red', 26: 'Red', 27: 'Red', 28: 'Red', 29: 'Red', 30: 'Green', 31: 'Green', 32: 'Green', 33: 'Green', 34: 'Green', 35: 'Green', 36: 'Green', 37: 'Green', 38: 'Green', 39: 'Green', 40: 'Green', 41: 'Green', 42: 'Green', 43: 'Green', 44: 'Green', 45: 'Green', 46: 'Green', 47: 'Green', 48: 'Green', 49: 'Green', 50: 'Green', 51: 'Green', 52: 'Green', 53: 'Green', 54: 'Green', 55: 'Green', 56: 'Green', 57: 'Green', 58: 'Green', 59: 'Green'}\n",
      "Probabilidad de tomar 3 blancas y 2 rojas: 0.0090\n",
      "Probabilidad de tomar todas del mismo color: 0.0340\n"
     ]
    }
   ],
   "source": [
    "ball_box = {}\n",
    "\n",
    "# Crea la cajas con las bolas\n",
    "for i in range(60):\n",
    "    if i < 10:\n",
    "        ball_box[i] = \"White\"\n",
    "    elif (i > 9) and (i < 30):\n",
    "        ball_box[i] = \"Red\"\n",
    "    else:\n",
    "        ball_box[i] = \"Green\"\n",
    "\n",
    "print(ball_box)\n",
    "            \n",
    "import random\n",
    "\n",
    "# Definimos el contenido de la caja\n",
    "bolas = ['blanca'] * 10 + ['roja'] * 20 + ['verde'] * 30\n",
    "\n",
    "# Función para simular el experimento de tomar 5 bolas con reemplazo\n",
    "def tomar_bolas():\n",
    "    seleccionadas = [random.choice(bolas) for _ in range(5)]\n",
    "    return seleccionadas\n",
    "\n",
    "# Parámetros\n",
    "num_experimentos = 1000\n",
    "exito_3_blancas_2_rojas = 0\n",
    "exito_mismo_color = 0\n",
    "\n",
    "# Realizar 1000 experimentos\n",
    "for _ in range(num_experimentos):\n",
    "    seleccionadas = tomar_bolas()\n",
    "    \n",
    "    # Condición 1: 3 blancas y 2 rojas\n",
    "    if seleccionadas.count('blanca') == 3 and seleccionadas.count('roja') == 2:\n",
    "        exito_3_blancas_2_rojas += 1\n",
    "    \n",
    "    # Condición 2: Todas del mismo color\n",
    "    if seleccionadas.count(seleccionadas[0]) == 5:\n",
    "        exito_mismo_color += 1\n",
    "\n",
    "# Calcular las probabilidades\n",
    "prob_3_blancas_2_rojas = exito_3_blancas_2_rojas / num_experimentos\n",
    "prob_mismo_color = exito_mismo_color / num_experimentos\n",
    "\n",
    "# Mostrar los resultados\n",
    "print(f\"Probabilidad de tomar 3 blancas y 2 rojas: {prob_3_blancas_2_rojas:.4f}\")\n",
    "print(f\"Probabilidad de tomar todas del mismo color: {prob_mismo_color:.4f}\")\n"
   ]
  }
 ],
 "metadata": {
  "kernelspec": {
   "display_name": "Python 3",
   "language": "python",
   "name": "python3"
  },
  "language_info": {
   "codemirror_mode": {
    "name": "ipython",
    "version": 3
   },
   "file_extension": ".py",
   "mimetype": "text/x-python",
   "name": "python",
   "nbconvert_exporter": "python",
   "pygments_lexer": "ipython3",
   "version": "3.11.4"
  }
 },
 "nbformat": 4,
 "nbformat_minor": 5
}
